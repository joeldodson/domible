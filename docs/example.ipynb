{
    "cells": [
        {
            "cell_type": "markdown",
            "metadata": {},
            "source": [
                "# Example usage\n",
                "\n",
                "To use `domible` in a project:"
            ]
        },
        {
            "cell_type": "code",
            "execution_count": 13,
            "metadata": {
                "tags": [
                    "import domible and print version "
                ]
            },
            "outputs": [
                {
                    "name": "stdout",
                    "output_type": "stream",
                    "text": [
                        "hello from domible, version: 0.1.0\n"
                    ]
                }
            ],
            "source": [
                "import domible\n",
                "\n",
                "print(f\"hello from domible, version: {domible.__version__}\")\n",
                "\n"
            ]
        },
        {
            "cell_type": "code",
            "execution_count": 14,
            "metadata": {},
            "outputs": [
                {
                    "name": "stdout",
                    "output_type": "stream",
                    "text": [
                        "<a href=\"https://blindgumption.com\">\n",
                        "Blind Gumption Website\n",
                        "</a>\n"
                    ]
                }
            ],
            "source": [
                "# create a simple anchor element <a>\n",
                "\n",
                "bga = domible.elements.Anchor(\n",
                "            href=\"https://blindgumption.com\", \n",
                "            contents = \"Blind Gumption Website\"\n",
                "        )\n",
                "print(bga)\n"
            ]
        },
        {
            "cell_type": "code",
            "execution_count": 15,
            "metadata": {},
            "outputs": [
                {
                    "name": "stdout",
                    "output_type": "stream",
                    "text": [
                        "<p>\n",
                        "Check out the fantastic <a href=\"https://blindgumption.com\">\n",
                        "Blind Gumption Website\n",
                        "</a>!\n",
                        "</p>\n"
                    ]
                }
            ],
            "source": [
                "#put that anchor in a paragraph <p>\n",
                "\n",
                "from domible.elements import Paragraph \n",
                "para = Paragraph(f\"Check out the fantastic {bga}!\")\n",
                "print(para)\n"
            ]
        }
    ],
    "metadata": {
        "kernelspec": {
            "display_name": "Python 3",
            "language": "python",
            "name": "python3"
        },
        "language_info": {
            "codemirror_mode": {
                "name": "ipython",
                "version": 3
            },
            "file_extension": ".py",
            "mimetype": "text/x-python",
            "name": "python",
            "nbconvert_exporter": "python",
            "pygments_lexer": "ipython3",
            "version": "3.11.2"
        }
    },
    "nbformat": 4,
    "nbformat_minor": 4
}
